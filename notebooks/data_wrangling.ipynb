{
 "cells": [
  {
   "cell_type": "markdown",
   "metadata": {},
   "source": [
    "# Data wrangling notebook\n",
    "\n",
    "In this notebook I gather data, clean it and build an adjacency matrix.\n",
    "\n",
    "Gathering data with the help of [*parcel*](https://github.com/scrapy/parsel)."
   ]
  },
  {
   "cell_type": "code",
   "execution_count": 23,
   "metadata": {
    "ExecuteTime": {
     "end_time": "2019-07-01T13:54:31.230429Z",
     "start_time": "2019-07-01T13:54:31.224560Z"
    }
   },
   "outputs": [],
   "source": [
    "import pandas as pd\n",
    "import numpy as np\n",
    "import requests\n",
    "import requests\n",
    "import matplotlib.pyplot as plt\n",
    "import seaborn as sns\n",
    "import geocoder\n",
    "import time\n",
    "\n",
    "from parsel import Selector\n",
    "from geopy.distance import great_circle\n",
    "%matplotlib inline\n",
    "\n",
    "sns.set_style(\"dark\")"
   ]
  },
  {
   "cell_type": "markdown",
   "metadata": {},
   "source": [
    "## Web Scraping and geocoding\n",
    "\n",
    "I take the list of cities directly from [Wikipedia page](https://en.wikipedia.org/wiki/List_of_cities_in_Ukraine), from the table. As the data there structured in a bit weird way, I only need each third element from the table, that's going to be exactly the name."
   ]
  },
  {
   "cell_type": "code",
   "execution_count": 2,
   "metadata": {
    "ExecuteTime": {
     "end_time": "2019-07-01T15:11:21.225245Z",
     "start_time": "2019-07-01T15:11:20.694314Z"
    }
   },
   "outputs": [],
   "source": [
    "url = 'https://en.wikipedia.org/wiki/List_of_cities_in_Ukraine'\n",
    "text = requests.get(url).text\n",
    "\n",
    "sel = Selector(text=text)"
   ]
  },
  {
   "cell_type": "code",
   "execution_count": 3,
   "metadata": {
    "ExecuteTime": {
     "end_time": "2019-07-01T15:11:23.243505Z",
     "start_time": "2019-07-01T15:11:23.227451Z"
    }
   },
   "outputs": [],
   "source": [
    "table = sel.xpath('//table')\n",
    "\n",
    "cities = []\n",
    "\n",
    "for city in table.xpath('.//td/a/text()'):\n",
    "    cities.append(city.get())\n",
    "\n",
    "cities = cities[::3]\n",
    "\n",
    "cities_df = pd.DataFrame()\n",
    "cities_df['city'] = cities"
   ]
  },
  {
   "cell_type": "markdown",
   "metadata": {},
   "source": [
    "In order to get the coordinates, I use [_geocoder_](https://github.com/DenisCarriere/geocoder) (a bit out-of-date package for today, but still works as expected). time.sleep(1) because of OpenStreetMap API restrictions on the query frequency."
   ]
  },
  {
   "cell_type": "code",
   "execution_count": 4,
   "metadata": {
    "ExecuteTime": {
     "end_time": "2019-07-01T17:12:58.371272Z",
     "start_time": "2019-07-01T17:02:55.466787Z"
    },
    "scrolled": true
   },
   "outputs": [
    {
     "name": "stdout",
     "output_type": "stream",
     "text": [
      "added Kyiv, 461 cities left, coords: [50.4500336, 30.5241361]\n",
      "added Kharkiv, 460 cities left, coords: [49.9902794, 36.2303893]\n",
      "added Odessa, 459 cities left, coords: [46.4852419, 30.7433894]\n",
      "added Dnipro, 458 cities left, coords: [51.9207486, 30.8249802]\n",
      "added Donetsk, 457 cities left, coords: [48.0158753, 37.8013407]\n",
      "added Zaporizhia, 456 cities left, coords: [47.8507859, 35.1182867]\n",
      "added Lviv, 455 cities left, coords: [49.841952, 24.0315921]\n",
      "added Kryvyi Rih, 454 cities left, coords: [47.9102734, 33.3917703]\n",
      "added Mykolaiv, 453 cities left, coords: [46.9737705, 31.9853819]\n",
      "added Mariupol, 452 cities left, coords: [47.1286047, 37.5790940286384]\n",
      "added Luhansk, 451 cities left, coords: [48.5717084, 39.2973153]\n",
      "added Vinnytsia, 450 cities left, coords: [49.2320162, 28.467975]\n",
      "added Makiivka, 449 cities left, coords: [48.05663735, 37.9377778357717]\n",
      "added Sevastopol, 448 cities left, coords: [44.6054434, 33.5220842]\n",
      "added Simferopol, 447 cities left, coords: [44.9521457, 34.1024858]\n",
      "added Kherson, 446 cities left, coords: [46.65086815, 32.6023027991877]\n",
      "added Poltava, 445 cities left, coords: [49.5897423, 34.5507948]\n",
      "added Chernihiv, 444 cities left, coords: [51.49300385, 31.2986894526539]\n",
      "added Cherkasy, 443 cities left, coords: [49.4447888, 32.0587805]\n",
      "added Zhytomyr, 442 cities left, coords: [50.2598298, 28.6692345]\n",
      "added Sumy, 441 cities left, coords: [50.90091055, 34.8087694703864]\n",
      "added Khmelnytskyi, 440 cities left, coords: [49.4196404, 26.9793793]\n",
      "added Chernivtsi, 439 cities left, coords: [48.2864702, 25.9376532]\n",
      "added Horlivka, 438 cities left, coords: [48.3085337, 38.0627284678174]\n",
      "added Rivne, 437 cities left, coords: [50.6196175, 26.2513165]\n",
      "added Kamianske, 436 cities left, coords: [47.54245, 35.366169]\n",
      "added Kropyvnytskyi, 435 cities left, coords: [48.5105805, 32.2656283]\n",
      "added Ivano-Frankivsk, 434 cities left, coords: [48.9225224, 24.7103188]\n",
      "added Kremenchuk, 433 cities left, coords: [49.09285285, 33.4308188490926]\n",
      "added Ternopil, 432 cities left, coords: [49.5557716, 25.591886]\n",
      "added Lutsk, 431 cities left, coords: [50.7450733, 25.320078]\n",
      "added Bila Tserkva, 430 cities left, coords: [49.8038191, 30.1116924]\n",
      "added Kramatorsk, 429 cities left, coords: [48.72880905, 37.5670952784668]\n",
      "added Melitopol, 428 cities left, coords: [46.8487478, 35.3676448]\n",
      "added Kerch, 427 cities left, coords: [45.3534002, 36.4538645]\n",
      "added Nikopol, 426 cities left, coords: [43.7070803, 24.8996563]\n",
      "added Sloviansk, 425 cities left, coords: [48.8489051, 37.5884405418391]\n",
      "added Uzhhorod, 424 cities left, coords: [48.61899345, 22.2713948075913]\n",
      "added Berdiansk, 423 cities left, coords: [46.7611424, 36.7893746]\n",
      "added Alchevsk, 422 cities left, coords: [48.4693266, 38.803538]\n",
      "added Pavlohrad, 421 cities left, coords: [48.5317201, 35.8703535]\n",
      "added Sieverodonetsk, 420 cities left, coords: None\n",
      "added Yevpatoria, 419 cities left, coords: [45.1907635, 33.3679049]\n",
      "added Lysychansk, 418 cities left, coords: [48.8943809, 38.4432589]\n",
      "added Kamianets-Podilskyi, 417 cities left, coords: [48.6784597, 26.5852225]\n",
      "added Brovary, 416 cities left, coords: [50.5111168, 30.7900482]\n",
      "added Konotop, 415 cities left, coords: [51.2397495, 33.206675]\n",
      "added Uman, 414 cities left, coords: [21.0000287, 57.0036901]\n",
      "added Mukachevo, 413 cities left, coords: [48.4411626, 22.7244852969106]\n",
      "added Oleksandriia, 412 cities left, coords: [48.67596, 33.11623]\n",
      "added Khrustalnyi, 411 cities left, coords: [48.1486047, 38.8558912548669]\n",
      "added Yenakiieve, 410 cities left, coords: [48.23298435, 38.2075522595192]\n",
      "added Shostka, 409 cities left, coords: [51.8646643, 33.4916880462133]\n",
      "added Berdychiv, 408 cities left, coords: [49.8940442, 28.5814912]\n",
      "added Yalta, 407 cities left, coords: [44.4970713, 34.1586871]\n",
      "added Bakhmut, 406 cities left, coords: [48.60083235, 37.9940003223644]\n",
      "added Kadiyivka, 405 cities left, coords: [48.5623082, 38.6416719]\n",
      "added Drohobych, 404 cities left, coords: [49.3478421, 23.5120740098895]\n",
      "added Kostiantynivka, 403 cities left, coords: [48.5316437, 37.7162330694706]\n",
      "added Nizhyn, 402 cities left, coords: [51.0464747, 31.8806289]\n",
      "added Izmail, 401 cities left, coords: [45.3421228, 28.8359886]\n",
      "added Novomoskovsk, 400 cities left, coords: [54.011013, 38.290943]\n",
      "added Feodosiya, 399 cities left, coords: [45.0590777, 35.3881199]\n",
      "added Kovel, 398 cities left, coords: [51.2120538, 24.708894]\n",
      "added Smila, 397 cities left, coords: [49.2335549, 31.8827069]\n",
      "added Chervonohrad, 396 cities left, coords: [50.3892068, 24.2287906]\n",
      "added Kalush, 395 cities left, coords: [49.028894, 24.3613198]\n",
      "added Pervomaisk, 394 cities left, coords: [48.045745, 30.8475997]\n",
      "added Korosten, 393 cities left, coords: [50.9492852, 28.6416207]\n",
      "added Dovzhansk, 392 cities left, coords: [48.0811324, 39.642561]\n",
      "added Pokrovsk, 391 cities left, coords: [48.30978575, 37.1703832877522]\n",
      "added Kolomyia, 390 cities left, coords: [48.5259211, 25.0380538]\n",
      "added Boryspil, 389 cities left, coords: [50.3512101, 30.95077]\n",
      "added Rubizhne, 388 cities left, coords: [49.0222573, 38.3667937]\n",
      "added Chornomorsk, 387 cities left, coords: [46.32991285, 30.6319557045584]\n",
      "added Stryi, 386 cities left, coords: [49.255875, 23.8530863]\n",
      "added Druzhkivka, 385 cities left, coords: [48.6216907, 37.5322649698544]\n",
      "added Khartsyzk, 384 cities left, coords: [48.0403852, 38.1461560036277]\n",
      "added Pryluky, 383 cities left, coords: [50.5950864, 32.3866658]\n",
      "added Lozova, 382 cities left, coords: [48.88916, 36.31359]\n",
      "added Chystiakove, 381 cities left, coords: None\n",
      "added Novohrad-Volynskyi, 380 cities left, coords: [50.5900909, 27.621716572147]\n",
      "added Enerhodar, 379 cities left, coords: [47.4970865, 34.6487214]\n",
      "added Antratsyt, 378 cities left, coords: [48.1164285, 39.0886375]\n",
      "added Novovolynsk, 377 cities left, coords: [50.7224829, 24.1648399]\n",
      "added Horishni Plavni, 376 cities left, coords: [49.035262, 33.6315797727011]\n",
      "added Izium, 375 cities left, coords: [49.2043357, 37.2741553767811]\n",
      "added Shakhtarsk, 374 cities left, coords: [48.08741685, 38.4112449342518]\n",
      "added Bilhorod-Dnistrovskyi, 373 cities left, coords: [46.1909823, 30.345784]\n",
      "added Myrnohrad, 372 cities left, coords: [48.30791, 37.2591]\n",
      "added Okhtyrka, 371 cities left, coords: [50.3130007, 34.9024903944605]\n",
      "added Marhanets, 370 cities left, coords: [47.6490555, 34.649194]\n",
      "added Fastiv, 369 cities left, coords: [50.0799307, 29.9162821]\n",
      "added Snizhne, 368 cities left, coords: [48.0220754, 38.7634612]\n",
      "added Nova Kakhovka, 367 cities left, coords: [46.7549303, 33.3741329]\n",
      "added Lubny, 366 cities left, coords: [50.0118206, 33.0030821]\n",
      "added Rovenky, 365 cities left, coords: [48.0897987, 39.368029]\n",
      "added Zhovti Vody, 364 cities left, coords: [48.3465174, 33.5027797]\n",
      "added Brianka, 363 cities left, coords: [48.50361, 38.66432]\n",
      "added Svitlovodsk, 362 cities left, coords: [49.04537, 33.20721]\n",
      "added Irpin, 361 cities left, coords: [63.348376, 13.4636687]\n",
      "added Sorokyne, 360 cities left, coords: [52.163738, 34.008453]\n",
      "added Shepetivka, 359 cities left, coords: [50.18061775, 27.0678280516845]\n",
      "added Romny, 358 cities left, coords: [50.739762, 33.499577787329]\n",
      "added Varash, 357 cities left, coords: [51.34438025, 25.853879302241]\n",
      "added Pokrov, 356 cities left, coords: [47.6530307, 34.0940249291521]\n",
      "added Myrhorod, 355 cities left, coords: [49.9663756, 33.6096834916723]\n",
      "added Podilsk, 354 cities left, coords: [47.7433657, 29.537316117758]\n",
      "added Yuzhnoukrainsk, 353 cities left, coords: [47.8283702, 31.1675163]\n",
      "added Volodymyr-Volynskyi, 352 cities left, coords: [50.8474669, 24.319319]\n",
      "added Pervomaisk, 351 cities left, coords: [48.045745, 30.8475997]\n",
      "added Dubno, 350 cities left, coords: [50.4187918, 25.7455972]\n",
      "added Vyshneve, 349 cities left, coords: [50.3917497, 30.3678999]\n",
      "added Kakhovka, 348 cities left, coords: [46.8054626, 33.4817825]\n",
      "added Vasylkiv, 347 cities left, coords: [50.17387, 30.32158]\n",
      "added Netishyn, 346 cities left, coords: [50.3339213, 26.6496103]\n",
      "added Voznesensk, 345 cities left, coords: [47.5679582, 31.3338636]\n",
      "added Slavuta, 344 cities left, coords: [44.7158815, 23.6922801964019]\n",
      "added Yasynuvata, 343 cities left, coords: [48.1302294, 37.861336002945]\n",
      "added Dzhankoy, 342 cities left, coords: [45.7093755, 34.3899131]\n",
      "added Boiarka, 341 cities left, coords: [50.3356709, 30.2847595]\n"
     ]
    },
    {
     "name": "stdout",
     "output_type": "stream",
     "text": [
      "added Zhmerynka, 340 cities left, coords: [49.0367148, 28.1138519]\n",
      "added Starokostiantyniv, 339 cities left, coords: [49.75055685, 27.1939320959317]\n",
      "added Avdiivka, 338 cities left, coords: [48.14384315, 37.7545606095444]\n",
      "added Sambir, 337 cities left, coords: [49.5230869, 23.2141693242562]\n",
      "added Boryslav, 336 cities left, coords: [49.28860165, 23.4173537521758]\n",
      "added Toretsk, 335 cities left, coords: [48.3970469, 37.8501378]\n",
      "added Hlukhiv, 334 cities left, coords: [51.6746617, 33.9170528011601]\n",
      "added Obukhiv, 333 cities left, coords: [50.12105535, 30.6206139193335]\n",
      "added Tokmak, 332 cities left, coords: [42.81774895, 75.3189939979435]\n",
      "added Chuhuiv, 331 cities left, coords: [49.8363648, 36.6898157]\n",
      "added Mohyliv-Podilskyi, 330 cities left, coords: [48.4470419, 27.8061264]\n",
      "added Yuzhne, 329 cities left, coords: [46.6225879, 31.0995364]\n",
      "added Kostopil, 328 cities left, coords: [50.88283, 26.4513]\n",
      "added Synelnykove, 327 cities left, coords: [48.3269304, 35.5246984]\n",
      "added Pervomaiskyi, 326 cities left, coords: [49.37393, 36.22089]\n",
      "added Dobropillia, 325 cities left, coords: [48.4702022, 37.0885556145932]\n",
      "added Novoiavorivsk, 324 cities left, coords: [49.9290351, 23.5715482167772]\n",
      "added Bucha, 323 cities left, coords: [50.5485813, 30.2207143]\n",
      "added Krasnoperekopsk, 322 cities left, coords: [45.9565346, 33.7979467]\n",
      "added Chortkiv, 321 cities left, coords: [49.0160555, 25.7925191]\n",
      "added Balakliia, 320 cities left, coords: [49.4628203, 36.8786912]\n",
      "added Truskavets, 319 cities left, coords: [49.27123335, 23.50718193135]\n",
      "added Kupiansk, 318 cities left, coords: [49.71029845, 37.61610794983]\n",
      "added Pershotravensk, 317 cities left, coords: [48.34502535, 36.4061479474749]\n",
      "added Novyi Rozdil, 316 cities left, coords: [49.4696071, 24.1386133]\n",
      "added Ternivka, 315 cities left, coords: [48.5208213, 36.0865181503275]\n",
      "added Sarny, 314 cities left, coords: [51.3350028, 26.6171275]\n",
      "added Khust, 313 cities left, coords: [48.1764917, 23.291166]\n",
      "added Zolotonosha, 312 cities left, coords: [49.6687964, 32.0433262]\n",
      "added Alushta, 311 cities left, coords: [44.677112, 34.4095393]\n",
      "added Khmilnyk, 310 cities left, coords: [49.556175, 27.9491205]\n",
      "added Holubivka, 309 cities left, coords: [50.804901, 34.420509]\n",
      "added Khrestivka, 308 cities left, coords: [46.402821, 33.717041]\n",
      "added Pereiaslav-Khmelnytskyi, 307 cities left, coords: [50.0643984, 31.4447327]\n",
      "added Malyn, 306 cities left, coords: [50.7716358, 29.245701]\n",
      "added Vyshhorod, 305 cities left, coords: [50.5824332, 30.485121]\n",
      "added Bakhchisaray, 304 cities left, coords: None\n",
      "added Haisyn, 303 cities left, coords: [48.8120874, 29.3893874]\n",
      "added Korostyshiv, 302 cities left, coords: [50.3201518, 29.0584885]\n",
      "added Lebedyn, 301 cities left, coords: [50.5814148, 34.4761301]\n",
      "added Perevalsk, 300 cities left, coords: [48.44009, 38.79959]\n",
      "added Vynohradiv, 299 cities left, coords: [48.1403967, 23.036008]\n",
      "added Debaltseve, 298 cities left, coords: [48.3331084, 38.4047549]\n",
      "added Kaniv, 297 cities left, coords: [49.7551031, 31.4610802]\n",
      "added Oleshky, 296 cities left, coords: [49.933891, 36.095242]\n",
      "added Saky, 295 cities left, coords: [45.1319466, 33.6001281]\n",
      "added Znamianka, 294 cities left, coords: [48.71699295, 32.6747790848135]\n",
      "added Lyman, 293 cities left, coords: [43.9176386, -99.8581638]\n",
      "added Selydove, 292 cities left, coords: [48.14782015, 37.3018277428765]\n",
      "added Berehove, 291 cities left, coords: [48.20922795, 22.643385042215]\n",
      "added Koziatyn, 290 cities left, coords: [49.7178387, 28.8322522]\n",
      "added Popasna, 289 cities left, coords: [48.62995, 38.36632]\n",
      "added Molodohvardiysk, 288 cities left, coords: [48.3454419, 39.6434678163782]\n",
      "added Krolevets, 287 cities left, coords: [51.5548654, 33.3875984]\n",
      "added Merefa, 286 cities left, coords: [49.8182064, 36.063052]\n",
      "added Volnovakha, 285 cities left, coords: [47.5974539, 37.4918708263709]\n",
      "added Zdolbuniv, 284 cities left, coords: [50.518994, 26.2431096]\n",
      "added Kreminna, 283 cities left, coords: [49.0463189, 38.2178525]\n",
      "added Slavutych, 282 cities left, coords: [51.5201397, 30.7562301]\n",
      "added Dokuchaievsk, 281 cities left, coords: [47.75196025, 37.6787719975166]\n",
      "added Liubotyn, 280 cities left, coords: [49.9435, 35.91843]\n",
      "added Armiansk, 279 cities left, coords: [46.113261, 33.6904091]\n",
      "added Vilnohirsk, 278 cities left, coords: [48.49365, 34.02328]\n",
      "added Yahotyn, 277 cities left, coords: [50.2758913, 31.7634861]\n",
      "added Sukhodilsk, 276 cities left, coords: [48.35323, 39.72484]\n",
      "added Zolochiv, 275 cities left, coords: [50.2790531, 35.9824347]\n",
      "added Trostianets, 274 cities left, coords: [48.517372, 29.1625731]\n",
      "added Brody, 273 cities left, coords: [50.07648925, 25.1545268274931]\n",
      "added Polonne, 272 cities left, coords: [52.215933, 19.134422]\n",
      "added Hadiach, 271 cities left, coords: [50.3701607, 33.9948388]\n",
      "added Krasnohrad, 270 cities left, coords: [49.3795672, 35.4459687]\n",
      "added Kilia, 269 cities left, coords: [-31.7613365, -71.3187697]\n",
      "added Starobilsk, 268 cities left, coords: [49.28055, 38.90156]\n",
      "added Ladyzhyn, 267 cities left, coords: [48.6810505, 29.2567642]\n",
      "added Polohy, 266 cities left, coords: [47.4776419, 36.2622651]\n",
      "added Amvrosiivka, 265 cities left, coords: [47.7952806, 38.4798317]\n",
      "added Kremenets, 264 cities left, coords: [50.0962339, 25.7258837]\n",
      "added Henichesk, 263 cities left, coords: [46.1738032, 34.8068643]\n",
      "added Sokal, 262 cities left, coords: [50.4815285, 24.2855287]\n",
      "added Kurakhove, 261 cities left, coords: [47.9835214, 37.2826414]\n",
      "added Dniprorudne, 260 cities left, coords: [47.3897789, 35.0027623]\n",
      "added Volochysk, 259 cities left, coords: [49.5357074, 26.2125036]\n",
      "added Nadvirna, 258 cities left, coords: [48.6335887, 24.5684038]\n",
      "added Dolyna, 257 cities left, coords: [48.9735775, 23.980418]\n",
      "added Stebnyk, 256 cities left, coords: [49.29871335, 23.5561269213834]\n",
      "added Vovchansk, 255 cities left, coords: [50.2805047, 36.9452503]\n",
      "added Krasyliv, 254 cities left, coords: [49.6550248, 26.9732359]\n",
      "added Piatykhatky, 253 cities left, coords: [48.4124318, 33.7016613]\n",
      "added Reni, 252 cities left, coords: [52.2797707, 7.4373615]\n",
      "added Bakhmach, 251 cities left, coords: [51.18015, 32.81444]\n",
      "added Derhachi, 250 cities left, coords: [50.1075564, 36.1208299]\n",
      "added Vatutine, 249 cities left, coords: [49.0172494, 31.0618502]\n",
      "added Kalynivka, 248 cities left, coords: [48.392353, 32.366524]\n",
      "added Balta, 247 cities left, coords: [44.8867, 22.6360596041353]\n",
      "added Zvenyhorodka, 246 cities left, coords: [49.0767158, 30.96138]\n",
      "added Zuhres, 245 cities left, coords: [48.01719715, 38.2784678113801]\n",
      "added Skadovsk, 244 cities left, coords: [46.1203932, 32.910339]\n",
      "added Svatove, 243 cities left, coords: [49.4150599, 38.1551287]\n",
      "added Shpola, 242 cities left, coords: [49.0131743, 31.3932061]\n",
      "added Novoukrainka, 241 cities left, coords: [50.513676, 24.093519]\n",
      "added Korsun-Shevchenkivskyi, 240 cities left, coords: [49.418037, 31.2556741]\n",
      "added Lutuhyne, 239 cities left, coords: [48.4008342, 39.1981259]\n",
      "added Bilohirsk, 238 cities left, coords: [45.0584385, 34.594959]\n",
      "added Dolynska, 237 cities left, coords: [48.11634, 32.76363]\n",
      "added Iziaslav, 236 cities left, coords: [50.1194691, 26.8207625]\n",
      "added Bilopillia, 235 cities left, coords: [51.14667615, 34.2970023790996]\n",
      "added Bohodukhiv, 234 cities left, coords: [50.1602639, 35.521732]\n",
      "added Skvyra, 233 cities left, coords: [49.7336928, 29.6626664]\n",
      "added Karlivka, 232 cities left, coords: [48.44599285, 32.0617095144848]\n",
      "added Orikhiv, 231 cities left, coords: [47.5691902, 35.7789871]\n",
      "added Bilozerske, 230 cities left, coords: [48.53699585, 37.0581234528711]\n",
      "added Zolote, 229 cities left, coords: [48.6901104, 38.5121584]\n",
      "added Yunokomunarivsk, 228 cities left, coords: [48.2213624, 38.2875306]\n",
      "added Pidhorodne, 227 cities left, coords: [48.5681471, 35.1013002]\n",
      "added Rozdilna, 226 cities left, coords: [46.8524998, 30.0742605]\n",
      "added Horodok, 225 cities left, coords: [49.7831792, 23.6479323]\n",
      "added Chervonopartyzansk, 224 cities left, coords: [48.07617, 39.7736]\n",
      "added Ilovaisk, 223 cities left, coords: [47.92423265, 38.1947571470819]\n",
      "added Berezhany, 222 cities left, coords: [49.44503025, 24.9367968044297]\n",
      "added Novohrodivka, 221 cities left, coords: [48.2119295, 37.3321631184377]\n",
      "added Vuhledar, 220 cities left, coords: [47.7801865, 37.2481736505647]\n"
     ]
    },
    {
     "name": "stdout",
     "output_type": "stream",
     "text": [
      "added Berezan, 219 cities left, coords: [50.3132713, 31.4689158]\n",
      "added Putyvl, 218 cities left, coords: [51.3359821, 33.8715451]\n",
      "added Bolhrad, 217 cities left, coords: [45.6909766, 28.608542]\n",
      "added Bar, 216 cities left, coords: [48.4088704, 7.4492808]\n",
      "added Svaliava, 215 cities left, coords: [48.5460735, 22.9895489]\n",
      "added Bohuslav, 214 cities left, coords: [49.54765, 30.8733]\n",
      "added Huliaipole, 213 cities left, coords: [47.6655382, 36.2656849]\n",
      "added Zmiiv, 212 cities left, coords: [49.7029344, 36.3624539]\n",
      "added Ovruch, 211 cities left, coords: [51.3259771, 28.8026718]\n",
      "added Verkhniodniprovsk, 210 cities left, coords: None\n",
      "added Ochakiv, 209 cities left, coords: [46.6153998, 31.5457415]\n",
      "added Krasnohorivka, 208 cities left, coords: [48.00570705, 37.5175364438877]\n",
      "added Kivertsi, 207 cities left, coords: [50.8340326, 25.4653557]\n",
      "added Pyriatyn, 206 cities left, coords: [50.2361111, 32.5011111]\n",
      "added Mykolaivka, 205 cities left, coords: [49.027519, 34.319229]\n",
      "added Chasiv Yar, 204 cities left, coords: [48.5731042, 37.8320387185188]\n",
      "added Vilniansk, 203 cities left, coords: [47.9433, 35.43159]\n",
      "added Dunaivtsi, 202 cities left, coords: [48.886649, 26.8476798]\n",
      "added Apostolove, 201 cities left, coords: [47.6604523, 33.7089746]\n",
      "added Talne, 200 cities left, coords: [48.8885082, 30.6974101]\n",
      "added Artsyz, 199 cities left, coords: [45.99632, 29.43169]\n",
      "added Novyi Buh, 198 cities left, coords: [47.6933814, 32.5106596]\n",
      "added Tulchyn, 197 cities left, coords: [48.6730485, 28.8569476]\n",
      "added Haivoron, 196 cities left, coords: [48.336504, 29.8675272]\n",
      "added Horodok, 195 cities left, coords: [49.7831792, 23.6479323]\n",
      "added Hola Prystan, 194 cities left, coords: [46.52563345, 32.5309496098051]\n",
      "added Nosivka, 193 cities left, coords: [50.9377744, 31.5812258]\n",
      "added Zhashkiv, 192 cities left, coords: [49.2461642, 30.1019237]\n",
      "added Horodysche, 191 cities left, coords: [49.2906591, 31.4444985]\n",
      "added Vasylivka, 190 cities left, coords: [47.4431859, 35.2803026]\n",
      "added Kamianka-Dniprovska, 189 cities left, coords: [47.4900938, 34.4109101]\n",
      "added Petrovske, 188 cities left, coords: [48.29418, 38.86619]\n",
      "added Beryslav, 187 cities left, coords: [46.83878475, 33.4140041782474]\n",
      "added Snihurivka, 186 cities left, coords: [47.0670256, 32.8016915993283]\n",
      "added Radomyshl, 185 cities left, coords: [50.4961812, 29.2289588]\n",
      "added Burshtyn, 184 cities left, coords: [49.2516597, 24.633877]\n",
      "added Rakhiv, 183 cities left, coords: [48.0556765, 24.2057063]\n",
      "added Novhorod-Siverskyi, 182 cities left, coords: [52.004259, 33.2779899]\n",
      "added Kamianka, 181 cities left, coords: [48.0321816, 28.7042359]\n",
      "added Tetiiv, 180 cities left, coords: [49.3686166, 29.6771098]\n",
      "added Mykolaiv, 179 cities left, coords: [46.9737705, 31.9853819]\n",
      "added Ostroh, 178 cities left, coords: [50.329021, 26.5203627]\n",
      "added Zelenodolsk, 177 cities left, coords: [47.5668051, 33.6474574]\n",
      "added Vakhrusheve, 176 cities left, coords: [48.1499941, 38.8182126]\n",
      "added Khorol, 175 cities left, coords: [49.7822104, 33.2740646]\n",
      "added Storozhynets, 174 cities left, coords: [48.163016, 25.7208194]\n",
      "added Sudak, 173 cities left, coords: [44.8488369, 34.971099]\n",
      "added Siversk, 172 cities left, coords: [48.86192345, 38.090130222817]\n",
      "added Koriukivka, 171 cities left, coords: [51.77444, 32.2514]\n",
      "added Biliaivka, 170 cities left, coords: [52.9663689, 30.9904701]\n",
      "added Hirnyk, 169 cities left, coords: [48.05195135, 37.3728063751656]\n",
      "added Ukrainka, 168 cities left, coords: [50.16563, 34.72538]\n",
      "added Nova Odesa, 167 cities left, coords: [47.303879, 31.785002]\n",
      "added Horodnia, 166 cities left, coords: [51.8915393, 31.595545]\n",
      "added Schastia, 165 cities left, coords: [48.7412044, 39.235405]\n",
      "added Kaharlyk, 164 cities left, coords: [49.8650658, 30.8226786]\n",
      "added Zhdanivka, 163 cities left, coords: [49.6227642, 27.892957]\n",
      "added Berezne, 162 cities left, coords: [49.86935, 27.045589]\n",
      "added Terebovlia, 161 cities left, coords: [49.2960742, 25.692491]\n",
      "added Vynnyky, 160 cities left, coords: [49.8168013, 24.1381342]\n",
      "added Rozhysche, 159 cities left, coords: [50.94835915, 25.1456561237086]\n",
      "added Yavoriv, 158 cities left, coords: [49.9456001, 23.3886319]\n",
      "added Zhovkva, 157 cities left, coords: [50.056134, 23.9711967]\n",
      "added Tarascha, 156 cities left, coords: [49.555498, 30.5023421]\n",
      "added Myronivka, 155 cities left, coords: [49.6620033, 30.990906147005]\n",
      "added Bershad, 154 cities left, coords: [48.36594, 29.51889]\n",
      "added Ukrainsk, 153 cities left, coords: [48.0982965, 37.3633652806752]\n",
      "added Zbarazh, 152 cities left, coords: [49.6607393, 25.7768485]\n",
      "added Novomyrhorod, 151 cities left, coords: [48.7969701, 31.6523837]\n",
      "added Uzyn, 150 cities left, coords: [49.8284745, 30.4197205]\n",
      "added Svitlodarsk, 149 cities left, coords: [48.4327471, 38.220422015919]\n",
      "added Soledar, 148 cities left, coords: [48.69576455, 38.0484434827688]\n",
      "added Bashtanka, 147 cities left, coords: [47.4033486, 32.4388921]\n",
      "added Mala Vyska, 146 cities left, coords: [48.6404935, 31.634205]\n",
      "added Teplohirsk, 145 cities left, coords: None\n",
      "added Barvinkove, 144 cities left, coords: [48.9070045, 37.0287573]\n",
      "added Prymorsk, 143 cities left, coords: [46.7343149, 36.3472151]\n",
      "added Mena, 142 cities left, coords: [45.709097, -68.8590201]\n",
      "added Hlobyne, 141 cities left, coords: [49.392047, 33.2507308]\n",
      "added Hnivan, 140 cities left, coords: [49.0937226, 28.3496163]\n",
      "added Komsomolske, 139 cities left, coords: [47.6687951, 38.0739208]\n",
      "added Ichnia, 138 cities left, coords: [50.8623444, 32.3910144]\n",
      "added Novoazovsk, 137 cities left, coords: [47.1138718, 38.0830911]\n",
      "added Baranivka, 136 cities left, coords: [50.29369, 27.66666]\n",
      "added Buchach, 135 cities left, coords: [49.0630503, 25.389969]\n",
      "added Lokhvytsia, 134 cities left, coords: [50.3569855, 33.2671558]\n",
      "added Snovsk, 133 cities left, coords: [51.82365875, 31.9440197961086]\n",
      "added Bobrynets, 132 cities left, coords: [48.05795695, 32.1653081851916]\n",
      "added Nemyriv, 131 cities left, coords: [48.9654035, 28.8430131]\n",
      "added Kobeliaky, 130 cities left, coords: [49.1433333, 34.2002778]\n",
      "added Rodynske, 129 cities left, coords: [48.35604145, 37.2086042587294]\n",
      "added Chyhyryn, 128 cities left, coords: [49.0762729, 32.6671546]\n",
      "added Bobrovytsia, 127 cities left, coords: [50.7415033, 31.3860852]\n",
      "added Sosnivka, 126 cities left, coords: [50.2909116, 24.2563161]\n",
      "added Zhydachiv, 125 cities left, coords: [49.3813641, 24.1516403958837]\n",
      "added Yampil, 124 cities left, coords: [49.9562165, 26.2274578]\n",
      "added Mospyne, 123 cities left, coords: [47.8795114, 38.0739535979035]\n",
      "added Borzna, 122 cities left, coords: [51.2534475, 32.4263156]\n",
      "added Shcholkine, 121 cities left, coords: None\n",
      "added Buryn, 120 cities left, coords: [51.1960431, 33.8288042]\n",
      "added Kamianka-Buzka, 119 cities left, coords: [50.0962906, 24.3528425805919]\n",
      "added Hrebinka, 118 cities left, coords: [50.118412, 32.4336376]\n",
      "added Khrystynivka, 117 cities left, coords: [48.8182387, 29.9682196]\n",
      "added Hirske, 116 cities left, coords: [48.7395184, 38.4919701]\n",
      "added Tavriysk, 115 cities left, coords: None\n",
      "added Borschiv, 114 cities left, coords: [49.661404, 24.594011]\n",
      "added Zymohiria, 113 cities left, coords: [48.5855995, 38.9277816]\n",
      "added Khotyn, 112 cities left, coords: [48.5068418, 26.4859086]\n",
      "added Illintsi, 111 cities left, coords: [51.289669, 29.86565]\n",
      "added Pomichna, 110 cities left, coords: [48.2407152, 31.4183763001064]\n",
      "added Olevsk, 109 cities left, coords: [51.22272, 27.64881]\n",
      "added Kamin-Kashyrskyi, 108 cities left, coords: [51.6271153, 24.961357]\n",
      "added Tatarbunary, 107 cities left, coords: [45.8585564, 29.6116145573756]\n",
      "added Pohrebysche, 106 cities left, coords: [49.4848166, 29.2579157]\n",
      "added Maryinka, 105 cities left, coords: [47.9401242, 37.5022312]\n",
      "added Bolekhiv, 104 cities left, coords: [49.0663203, 23.8598949]\n",
      "added Inkerman, 103 cities left, coords: [44.6181043, 33.6043271]\n",
      "added Zinkiv, 102 cities left, coords: [50.21026, 34.35768]\n",
      "added Khodoriv, 101 cities left, coords: [49.4058459, 24.3179882792436]\n",
      "added Sniatyn, 100 cities left, coords: [48.4515891, 25.5577381566295]\n",
      "added Derazhnia, 99 cities left, coords: [49.2688322, 27.4327085]\n",
      "added Liuboml, 98 cities left, coords: [51.2274054, 24.0396571]\n",
      "added Valky, 97 cities left, coords: [49.8305184, 35.6047833]\n",
      "added Novodnistrovsk, 96 cities left, coords: [48.58485, 27.4311004]\n"
     ]
    },
    {
     "name": "stdout",
     "output_type": "stream",
     "text": [
      "added Radyvyliv, 95 cities left, coords: [50.12501745, 25.2605286044947]\n",
      "added Vuhlehirsk, 94 cities left, coords: [48.3123049, 38.2768033986126]\n",
      "added Sokyriany, 93 cities left, coords: [48.4460307, 27.411193]\n",
      "added Verkhivtseve, 92 cities left, coords: [48.48404, 34.24232]\n",
      "added Zalischyky, 91 cities left, coords: [48.6539024, 25.730076181579]\n",
      "added Staryi Krym, 90 cities left, coords: [45.0293926, 35.0881549]\n",
      "added Bilytske, 89 cities left, coords: [48.408527, 37.1834564272936]\n",
      "added Pereschepyne, 88 cities left, coords: [49.01825, 35.35915]\n",
      "added Andrushivka, 87 cities left, coords: [50.0301392, 29.0222111]\n",
      "added Pustomyty, 86 cities left, coords: [49.7213186, 23.9152732730984]\n",
      "added Horodenka, 85 cities left, coords: [48.6720598, 25.4952722]\n",
      "added Tysmenytsia, 84 cities left, coords: [48.9018102, 24.8484719]\n",
      "added Tiachiv, 83 cities left, coords: [48.01752315, 23.5757783661401]\n",
      "added Semenivka, 82 cities left, coords: [49.598666, 33.1840853]\n",
      "added Dubrovytsia, 81 cities left, coords: [51.57051, 26.56632]\n",
      "added Kodyma, 80 cities left, coords: [47.9052646, 30.0117871]\n",
      "added Irshava, 79 cities left, coords: [48.31924, 23.0417599]\n",
      "added Berezivka, 78 cities left, coords: [47.20241, 30.909]\n",
      "added Ananyiv, 77 cities left, coords: [47.7178669, 29.9601889]\n",
      "added Monastyrysche, 76 cities left, coords: [48.9947226, 29.7997669]\n",
      "added Lypovets, 75 cities left, coords: [50.043472, 23.235935]\n",
      "added Vylkove, 74 cities left, coords: [45.40306, 29.58309]\n",
      "added Radekhiv, 73 cities left, coords: [50.2808744, 24.6397908]\n",
      "added Mostyska, 72 cities left, coords: [49.7951405, 23.1498418]\n",
      "added Artemivsk, 71 cities left, coords: [48.60083235, 37.9940003223644]\n",
      "added Novodruzhesk, 70 cities left, coords: [48.963397, 38.3519615]\n",
      "added Zavodske, 69 cities left, coords: [49.00115885, 25.854515671067]\n",
      "added Alupka, 68 cities left, coords: [44.4204046, 34.0483715]\n",
      "added Horokhiv, 67 cities left, coords: [50.4986166, 24.7600734]\n",
      "added Pryvillia, 66 cities left, coords: [48.99971, 38.30109]\n",
      "added Chop, 65 cities left, coords: [48.4310953, 22.2096148]\n",
      "added Zastavna, 64 cities left, coords: [48.5224375, 25.8457245]\n",
      "added Zorynsk, 63 cities left, coords: [48.41297, 38.62793]\n",
      "added Tlumach, 62 cities left, coords: [48.8659853, 25.001988]\n",
      "added Teplodar, 61 cities left, coords: [46.5050729, 30.3272329]\n",
      "added Lanivtsi, 60 cities left, coords: [49.8643438, 26.0917695514976]\n",
      "added Busk, 59 cities left, coords: [49.965355, 24.6089531]\n",
      "added Korets, 58 cities left, coords: [50.6194566, 27.159712]\n",
      "added Rohatyn, 57 cities left, coords: [49.4092703, 24.6105811]\n",
      "added Pivdenne, 56 cities left, coords: [49.87175, 36.06125]\n",
      "added Dubliany, 55 cities left, coords: [49.9002233, 24.0865981279077]\n",
      "added Rzhyschiv, 54 cities left, coords: [49.9617848, 31.0407618900779]\n",
      "added Novoselytsia, 53 cities left, coords: [50.838009, 34.889748]\n",
      "added Vorozhba, 52 cities left, coords: [51.1697546, 34.2174781170254]\n",
      "added Kosiv, 51 cities left, coords: [48.315802, 25.0983417]\n",
      "added Pochaiv, 50 cities left, coords: [50.0017638, 25.5110926]\n",
      "added Rava-Ruska, 49 cities left, coords: [50.2334884, 23.6208418]\n",
      "added Molochansk, 48 cities left, coords: [47.20653, 35.59742]\n",
      "added Yaremcha, 47 cities left, coords: None\n",
      "added Turka, 46 cities left, coords: [49.15247995, 23.0141528487638]\n",
      "added Kitsman, 45 cities left, coords: [48.4386498, 25.7610109]\n",
      "added Peremyshliany, 44 cities left, coords: [49.6693553, 24.5584141]\n",
      "added Blahovishchenske, 43 cities left, coords: [48.3277163, 30.2343867]\n",
      "added Seredyna-Buda, 42 cities left, coords: [52.1886906, 34.0306022]\n",
      "added Zboriv, 41 cities left, coords: [49.6645222, 25.1386197]\n",
      "added Khorostkiv, 40 cities left, coords: [49.2121531, 25.9168525]\n",
      "added Oster, 39 cities left, coords: [43.0487175, -0.0129855]\n",
      "added Sharhorod, 38 cities left, coords: [48.7498267, 28.08317]\n",
      "added Perechyn, 37 cities left, coords: [48.73707, 22.48764]\n",
      "added Oleksandrivsk, 36 cities left, coords: [48.585751, 39.1897675]\n",
      "added Kopychyntsi, 35 cities left, coords: [49.1132448, 25.9075544495146]\n",
      "added Skole, 34 cities left, coords: [49.03274175, 23.5090530523713]\n",
      "added Artemove, 33 cities left, coords: [48.3713082, 37.888381090766]\n",
      "added Sudova Vyshnia, 32 cities left, coords: [49.7880934, 23.3732553]\n",
      "added Halych, 31 cities left, coords: [49.123317, 24.7299495]\n",
      "added Morshyn, 30 cities left, coords: [49.1536011, 23.8700537]\n",
      "added Monastyryska, 29 cities left, coords: [49.0908395, 25.1717816]\n",
      "added Miusynsk, 28 cities left, coords: [48.0903691, 38.8930289]\n",
      "added Vashkivtsi, 27 cities left, coords: [48.3820192, 25.5174954]\n",
      "added Velyki Mosty, 26 cities left, coords: [50.240162, 24.1385486]\n",
      "added Druzhba, 25 cities left, coords: [45.256062, 82.492783]\n",
      "added Staryi Sambir, 24 cities left, coords: [49.43887925, 23.0000297455778]\n",
      "added Broshniv-Osada, 23 cities left, coords: [48.9958991, 24.1858656]\n",
      "added Shumsk, 22 cities left, coords: [50.12132105, 26.1134480073384]\n",
      "added Sviatohirsk, 21 cities left, coords: [49.0337642, 37.5575696]\n",
      "added Almazna, 20 cities left, coords: [48.52143195, 38.5687970563162]\n",
      "added Svarychiv, 19 cities left, coords: [48.959156, 24.186478]\n",
      "added Vyzhnytsia, 18 cities left, coords: [48.2479891, 25.1892546]\n",
      "added Maydanets, 17 cities left, coords: None\n",
      "added Dobromyl, 16 cities left, coords: [49.5685897, 22.7880041893302]\n",
      "added Rudky, 15 cities left, coords: [49.6477963, 23.4872537198048]\n",
      "added Khyriv, 14 cities left, coords: [49.5313137, 22.8520690679889]\n",
      "added Skalat, 13 cities left, coords: [49.42980555, 25.9722437696291]\n",
      "added Komarno, 12 cities left, coords: [47.7574079, 18.1298249]\n",
      "added Bibrka, 11 cities left, coords: [49.6375183, 24.2973288]\n",
      "added Novyi Kalyniv, 10 cities left, coords: [49.55894125, 23.3047973744175]\n",
      "added Hlyniany, 9 cities left, coords: [49.8220371, 24.5165092]\n",
      "added Pidhaitsi, 8 cities left, coords: [49.2680238, 25.1361578]\n",
      "added Baturyn, 7 cities left, coords: [51.32744, 32.89238]\n",
      "added Belz, 6 cities left, coords: [47.7584953, 27.9113897]\n",
      "added Ustyluh, 5 cities left, coords: [50.8622192, 24.1505139]\n",
      "added Hertsa, 4 cities left, coords: [48.1502154, 26.2585431]\n",
      "added Berestechko, 3 cities left, coords: [50.3585756, 25.1209852]\n",
      "added Uhniv, 2 cities left, coords: [50.367231, 23.7470971]\n",
      "added Chernobyl, 1 cities left, coords: [51.2705259, 30.2194322]\n",
      "added Prypiat, 0 cities left, coords: [51.4061237, 30.0571098]\n"
     ]
    }
   ],
   "source": [
    "coordinates = []\n",
    "with requests.Session() as session:\n",
    "    i = 462\n",
    "    for city in cities:\n",
    "        coordinates.append(geocoder.osm('{}'.format(city),\n",
    "                                           session=session)\\\n",
    "                                           .latlng)\n",
    "        i -= 1\n",
    "        print('added {0}, {1} cities left, coords: {2}'\\\n",
    "              .format(city, i, coordinates[462-i-1]))\n",
    "\n",
    "        time.sleep(1) # executed in 10 minutes, osm restrictions"
   ]
  },
  {
   "cell_type": "code",
   "execution_count": 5,
   "metadata": {
    "ExecuteTime": {
     "end_time": "2019-07-01T17:18:30.310781Z",
     "start_time": "2019-07-01T17:18:30.302334Z"
    }
   },
   "outputs": [],
   "source": [
    "cities_df['lat'] = [coord[0] if coord != None \n",
    "                    else None for coord in coordinates]\n",
    "cities_df['long'] = [coord[1] if coord != None \n",
    "                     else None for coord in coordinates]\n",
    "\n",
    "cities_df.dropna(inplace=True)\n",
    "cities_df.drop_duplicates(inplace=True)"
   ]
  },
  {
   "cell_type": "code",
   "execution_count": 6,
   "metadata": {
    "ExecuteTime": {
     "end_time": "2019-07-01T17:24:59.793930Z",
     "start_time": "2019-07-01T17:24:59.778690Z"
    }
   },
   "outputs": [
    {
     "data": {
      "text/html": [
       "<div>\n",
       "<style scoped>\n",
       "    .dataframe tbody tr th:only-of-type {\n",
       "        vertical-align: middle;\n",
       "    }\n",
       "\n",
       "    .dataframe tbody tr th {\n",
       "        vertical-align: top;\n",
       "    }\n",
       "\n",
       "    .dataframe thead th {\n",
       "        text-align: right;\n",
       "    }\n",
       "</style>\n",
       "<table border=\"1\" class=\"dataframe\">\n",
       "  <thead>\n",
       "    <tr style=\"text-align: right;\">\n",
       "      <th></th>\n",
       "      <th>city</th>\n",
       "      <th>lat</th>\n",
       "      <th>long</th>\n",
       "    </tr>\n",
       "  </thead>\n",
       "  <tbody>\n",
       "    <tr>\n",
       "      <th>0</th>\n",
       "      <td>Kyiv</td>\n",
       "      <td>50.450034</td>\n",
       "      <td>30.524136</td>\n",
       "    </tr>\n",
       "    <tr>\n",
       "      <th>1</th>\n",
       "      <td>Kharkiv</td>\n",
       "      <td>49.990279</td>\n",
       "      <td>36.230389</td>\n",
       "    </tr>\n",
       "    <tr>\n",
       "      <th>2</th>\n",
       "      <td>Odessa</td>\n",
       "      <td>46.485242</td>\n",
       "      <td>30.743389</td>\n",
       "    </tr>\n",
       "    <tr>\n",
       "      <th>3</th>\n",
       "      <td>Dnipro</td>\n",
       "      <td>51.920749</td>\n",
       "      <td>30.824980</td>\n",
       "    </tr>\n",
       "    <tr>\n",
       "      <th>4</th>\n",
       "      <td>Donetsk</td>\n",
       "      <td>48.015875</td>\n",
       "      <td>37.801341</td>\n",
       "    </tr>\n",
       "  </tbody>\n",
       "</table>\n",
       "</div>"
      ],
      "text/plain": [
       "      city        lat       long\n",
       "0     Kyiv  50.450034  30.524136\n",
       "1  Kharkiv  49.990279  36.230389\n",
       "2   Odessa  46.485242  30.743389\n",
       "3   Dnipro  51.920749  30.824980\n",
       "4  Donetsk  48.015875  37.801341"
      ]
     },
     "execution_count": 6,
     "metadata": {},
     "output_type": "execute_result"
    }
   ],
   "source": [
    "# cities_df.to_csv('./data/cities_data_ukraine_raw.csv', index=False)\n",
    "cities_df = pd.read_csv('./data/cities_data_ukraine_raw.csv')\n",
    "cities_df.head()"
   ]
  },
  {
   "cell_type": "markdown",
   "metadata": {},
   "source": [
    "## Data processing\n",
    "Hooraayy! We got the data. Let's look what's inside."
   ]
  },
  {
   "cell_type": "code",
   "execution_count": 7,
   "metadata": {
    "ExecuteTime": {
     "end_time": "2019-07-01T19:01:11.245923Z",
     "start_time": "2019-07-01T19:01:10.982980Z"
    },
    "scrolled": false
   },
   "outputs": [
    {
     "data": {
      "text/plain": [
       "<matplotlib.axes._subplots.AxesSubplot at 0x1185073c8>"
      ]
     },
     "execution_count": 7,
     "metadata": {},
     "output_type": "execute_result"
    },
    {
     "data": {
      "image/png": "[encoded data removed]",
      "text/plain": [
       "<Figure size 432x288 with 1 Axes>"
      ]
     },
     "metadata": {
      "needs_background": "light"
     },
     "output_type": "display_data"
    }
   ],
   "source": [
    "sns.scatterplot(data=cities_df, x='long', y='lat')"
   ]
  },
  {
   "cell_type": "markdown",
   "metadata": {},
   "source": [
    "That's not looking much like Ukraine at all. We need to get rid of the outliers, obviously. Let's filter everything beyond 0.95 and 0.99 quantiles and choose the best option."
   ]
  },
  {
   "cell_type": "code",
   "execution_count": 8,
   "metadata": {},
   "outputs": [],
   "source": [
    "def add_quantile_lines(quant, x=None, y=None, draw_x=False, draw_y=False, graph_obj=plt, **kwargs):\n",
    "    if draw_x:\n",
    "        graph_obj.axvline(x.quantile(quant), **kwargs)\n",
    "        graph_obj.axvline(x.quantile(1-quant), **kwargs)\n",
    "\n",
    "    if draw_y:\n",
    "        graph_obj.axhline(y.quantile(quant), **kwargs)\n",
    "        graph_obj.axhline(y.quantile(1-quant), **kwargs)"
   ]
  },
  {
   "cell_type": "markdown",
   "metadata": {},
   "source": [
    "Let's look at distribution of _lat/long_ to find out where we have more outliers and check their nature."
   ]
  },
  {
   "cell_type": "code",
   "execution_count": 9,
   "metadata": {
    "ExecuteTime": {
     "end_time": "2019-07-09T09:58:00.607587Z",
     "start_time": "2019-07-09T09:58:00.236843Z"
    },
    "scrolled": false
   },
   "outputs": [
    {
     "data": {
      "image/png": "[encoded data removed]",
      "text/plain": [
       "<Figure size 432x288 with 2 Axes>"
      ]
     },
     "metadata": {
      "needs_background": "light"
     },
     "output_type": "display_data"
    }
   ],
   "source": [
    "cities_df.hist()\n",
    "plt.show()"
   ]
  },
  {
   "cell_type": "code",
   "execution_count": 12,
   "metadata": {
    "scrolled": false
   },
   "outputs": [
    {
     "data": {
      "image/png": "[encoded data removed]",
      "text/plain": [
       "<Figure size 1440x360 with 2 Axes>"
      ]
     },
     "metadata": {
      "needs_background": "light"
     },
     "output_type": "display_data"
    }
   ],
   "source": [
    "plt.figure(figsize=(20, 5))\n",
    "\n",
    "plt.subplot(1, 2, 1)\n",
    "plt.title('0.95 quantile')\n",
    "sns.scatterplot(data=cities_df, x='long', y='lat')\n",
    "add_quantile_lines(x=cities_df.long, y=cities_df.lat, quant=0.95, draw_y=True, draw_x=True,\n",
    "                   color='r', linewidth=1.5, linestyle='--')\n",
    "\n",
    "plt.subplot(1, 2, 2)\n",
    "plt.title('0.99 quantile')\n",
    "sns.scatterplot(data=cities_df, x='long', y='lat')\n",
    "add_quantile_lines(x=cities_df.long, y=cities_df.lat, quant=0.99, draw_y=True, draw_x=True,\n",
    "                   color='black', linewidth=1.5, linestyle='--')\n",
    "\n",
    "\n",
    "plt.show()"
   ]
  },
  {
   "cell_type": "markdown",
   "metadata": {},
   "source": [
    "The best quantile for filtration lies somewhere between *0.95* and *0.99* quantiles, so I managed to find optimal option. \n",
    "\n",
    "Interestingly, that if we use \"best-looking\" quantile from the picture (*0.95*), we lose Crimean cities on the South of the country. We may check this assumption by filtering cities by _longitude_ and then draw quantile lines to see the which cities will be filtered by _latitude_."
   ]
  },
  {
   "cell_type": "code",
   "execution_count": 13,
   "metadata": {},
   "outputs": [
    {
     "data": {
      "text/plain": [
       "(433, 3)"
      ]
     },
     "execution_count": 13,
     "metadata": {},
     "output_type": "execute_result"
    }
   ],
   "source": [
    "cities_df_filtered = cities_df[(cities_df.long > cities_df.long.quantile(0.02))\\\n",
    "                            & (cities_df.long < cities_df.long.quantile(0.98))]\n",
    "cities_df_filtered.shape"
   ]
  },
  {
   "cell_type": "code",
   "execution_count": 14,
   "metadata": {},
   "outputs": [
    {
     "data": {
      "image/png": "[encoded data removed]",
      "text/plain": [
       "<Figure size 432x288 with 1 Axes>"
      ]
     },
     "metadata": {
      "needs_background": "light"
     },
     "output_type": "display_data"
    }
   ],
   "source": [
    "sns.scatterplot(data=cities_df_filtered, x='long', y='lat')\n",
    "plt.title('0.95 quantile on filtered data')\n",
    "add_quantile_lines(y=cities_df_filtered.lat, quant=0.95,\n",
    "                   color='red', linewidth=1.5, linestyle='--', draw_y=True)"
   ]
  },
  {
   "cell_type": "markdown",
   "metadata": {},
   "source": [
    "As I expected, all the Crimean city were left behind the *0.95* quantile. Thus, there's more sense to use *0.99* quantile for latitute."
   ]
  },
  {
   "cell_type": "code",
   "execution_count": 15,
   "metadata": {},
   "outputs": [
    {
     "name": "stderr",
     "output_type": "stream",
     "text": [
      "/Users/suess_mann/.pyenv/versions/3.7.3/envs/venv_intern_hse/lib/python3.7/site-packages/ipykernel_launcher.py:2: UserWarning: Boolean Series key will be reindexed to match DataFrame index.\n",
      "  \n"
     ]
    }
   ],
   "source": [
    "clear_cities_df = cities_df_filtered[(cities_df.lat < cities_df.lat.quantile(0.99))\\\n",
    "                            & (cities_df.lat > cities_df.lat.quantile(0.01))]"
   ]
  },
  {
   "cell_type": "markdown",
   "metadata": {},
   "source": [
    "A bit of manual data manipulation here – I spotted unwanted and strange looking cities on the West."
   ]
  },
  {
   "cell_type": "code",
   "execution_count": 17,
   "metadata": {
    "ExecuteTime": {
     "end_time": "2019-07-01T19:10:03.978974Z",
     "start_time": "2019-07-01T19:10:03.962423Z"
    },
    "scrolled": true
   },
   "outputs": [
    {
     "data": {
      "text/plain": [
       "(428, 3)"
      ]
     },
     "execution_count": 17,
     "metadata": {},
     "output_type": "execute_result"
    },
    {
     "data": {
      "image/png": "[encoded data removed]",
      "text/plain": [
       "<Figure size 432x288 with 1 Axes>"
      ]
     },
     "metadata": {
      "needs_background": "light"
     },
     "output_type": "display_data"
    }
   ],
   "source": [
    "clear_cities_df = clear_cities_df[~((clear_cities_df.long < 20) \n",
    "                                    & (clear_cities_df.lat  < 48)\\\n",
    "                                    | (clear_cities_df.long < 25) \n",
    "                                    & (clear_cities_df.lat  < 45))]\n",
    "\n",
    "sns.scatterplot(data=clear_cities_df, x='long', y='lat')\n",
    "\n",
    "clear_cities_df.shape"
   ]
  },
  {
   "cell_type": "markdown",
   "metadata": {},
   "source": [
    "Great job! Now adjacency matrix."
   ]
  },
  {
   "cell_type": "markdown",
   "metadata": {},
   "source": [
    "## Adjacency matrix\n",
    "To build an adjacency matrix, I wrote a little script which goes through each city and calculates the distance using **great_circle** from [*geopy*](https://github.com/geopy/geopy)."
   ]
  },
  {
   "cell_type": "code",
   "execution_count": null,
   "metadata": {
    "ExecuteTime": {
     "end_time": "2019-07-02T11:59:28.232143Z",
     "start_time": "2019-07-02T11:59:28.111944Z"
    }
   },
   "outputs": [],
   "source": [
    "# clear_cities_df.to_csv('./data/cities_data_ukraine_clean.csv', index=False)"
   ]
  },
  {
   "cell_type": "code",
   "execution_count": 18,
   "metadata": {
    "ExecuteTime": {
     "end_time": "2019-07-08T16:46:49.958638Z",
     "start_time": "2019-07-08T16:46:49.941353Z"
    }
   },
   "outputs": [],
   "source": [
    "cities_df = pd.read_csv('./data/cities_data_ukraine_clean.csv', \n",
    "                        index_col=0)\n",
    "\n",
    "cities_df = cities_df.set_index('city')"
   ]
  },
  {
   "cell_type": "code",
   "execution_count": 19,
   "metadata": {
    "ExecuteTime": {
     "end_time": "2019-07-08T16:46:52.320076Z",
     "start_time": "2019-07-08T16:46:52.310892Z"
    }
   },
   "outputs": [
    {
     "data": {
      "text/html": [
       "<div>\n",
       "<style scoped>\n",
       "    .dataframe tbody tr th:only-of-type {\n",
       "        vertical-align: middle;\n",
       "    }\n",
       "\n",
       "    .dataframe tbody tr th {\n",
       "        vertical-align: top;\n",
       "    }\n",
       "\n",
       "    .dataframe thead th {\n",
       "        text-align: right;\n",
       "    }\n",
       "</style>\n",
       "<table border=\"1\" class=\"dataframe\">\n",
       "  <thead>\n",
       "    <tr style=\"text-align: right;\">\n",
       "      <th></th>\n",
       "      <th>lat</th>\n",
       "      <th>long</th>\n",
       "    </tr>\n",
       "    <tr>\n",
       "      <th>city</th>\n",
       "      <th></th>\n",
       "      <th></th>\n",
       "    </tr>\n",
       "  </thead>\n",
       "  <tbody>\n",
       "    <tr>\n",
       "      <th>Kyiv</th>\n",
       "      <td>50.450034</td>\n",
       "      <td>30.524136</td>\n",
       "    </tr>\n",
       "    <tr>\n",
       "      <th>Kharkiv</th>\n",
       "      <td>49.990279</td>\n",
       "      <td>36.230389</td>\n",
       "    </tr>\n",
       "    <tr>\n",
       "      <th>Odessa</th>\n",
       "      <td>46.485242</td>\n",
       "      <td>30.743389</td>\n",
       "    </tr>\n",
       "    <tr>\n",
       "      <th>Dnipro</th>\n",
       "      <td>51.920749</td>\n",
       "      <td>30.824980</td>\n",
       "    </tr>\n",
       "    <tr>\n",
       "      <th>Donetsk</th>\n",
       "      <td>48.015875</td>\n",
       "      <td>37.801341</td>\n",
       "    </tr>\n",
       "  </tbody>\n",
       "</table>\n",
       "</div>"
      ],
      "text/plain": [
       "               lat       long\n",
       "city                         \n",
       "Kyiv     50.450034  30.524136\n",
       "Kharkiv  49.990279  36.230389\n",
       "Odessa   46.485242  30.743389\n",
       "Dnipro   51.920749  30.824980\n",
       "Donetsk  48.015875  37.801341"
      ]
     },
     "execution_count": 19,
     "metadata": {},
     "output_type": "execute_result"
    }
   ],
   "source": [
    "cities_df.head()"
   ]
  },
  {
   "cell_type": "code",
   "execution_count": 21,
   "metadata": {
    "ExecuteTime": {
     "end_time": "2019-07-08T16:28:35.300696Z",
     "start_time": "2019-07-08T16:28:35.295464Z"
    }
   },
   "outputs": [
    {
     "data": {
      "text/plain": [
       "['Kyiv', 'Kharkiv', 'Odessa', 'Dnipro', 'Donetsk']"
      ]
     },
     "execution_count": 21,
     "metadata": {},
     "output_type": "execute_result"
    }
   ],
   "source": [
    "cities_names = cities_df.index.to_list()\n",
    "cities_names[:5]"
   ]
  },
  {
   "cell_type": "code",
   "execution_count": 24,
   "metadata": {
    "ExecuteTime": {
     "end_time": "2019-07-08T16:55:25.440051Z",
     "start_time": "2019-07-08T16:55:25.435877Z"
    }
   },
   "outputs": [
    {
     "data": {
      "text/plain": [
       "array([[-1., -1., -1., ..., -1., -1., -1.],\n",
       "       [-1., -1., -1., ..., -1., -1., -1.],\n",
       "       [-1., -1., -1., ..., -1., -1., -1.],\n",
       "       ...,\n",
       "       [-1., -1., -1., ..., -1., -1., -1.],\n",
       "       [-1., -1., -1., ..., -1., -1., -1.],\n",
       "       [-1., -1., -1., ..., -1., -1., -1.]])"
      ]
     },
     "execution_count": 24,
     "metadata": {},
     "output_type": "execute_result"
    }
   ],
   "source": [
    "dij = -np.ones([len(cities_names),len(cities_names)])\n",
    "dij"
   ]
  },
  {
   "cell_type": "markdown",
   "metadata": {},
   "source": [
    "Here comes the script. In order not to make all the computations twice, I transpose resulting matrix and add it to the exitsting one. \n",
    "\n",
    "Though, I understand that this piece of code is not much of a pandas-way to solve the task and it needs much improvement."
   ]
  },
  {
   "cell_type": "code",
   "execution_count": 25,
   "metadata": {
    "ExecuteTime": {
     "end_time": "2019-07-08T16:55:46.653748Z",
     "start_time": "2019-07-08T16:55:26.659733Z"
    },
    "scrolled": true
   },
   "outputs": [],
   "source": [
    "for i, cities_names_i in enumerate(cities_names):\n",
    "    city_i = np.where(cities_df.index==cities_names_i)[0][0]\n",
    "    for j, cities_names_j in enumerate(cities_names):\n",
    "        if i < j:\n",
    "            city_j = np.where(cities_df.index==cities_names_j)[0][0]\n",
    "            coord1 = cities_df['lat'][city_i], cities_df['long'][city_i]\n",
    "            coord2 = cities_df['lat'][city_j], cities_df['long'][city_j]\n",
    "            \n",
    "            dij[i, j] = great_circle(coord1, coord2).km\n",
    "        \n",
    "dij = dij + dij.T\n",
    "np.fill_diagonal(dij, 0)"
   ]
  },
  {
   "cell_type": "code",
   "execution_count": 26,
   "metadata": {
    "ExecuteTime": {
     "end_time": "2019-07-08T16:53:44.152404Z",
     "start_time": "2019-07-08T16:53:44.145992Z"
    }
   },
   "outputs": [
    {
     "data": {
      "text/plain": [
       "array([[  0.        , 408.08472407, 440.16102905, ..., 479.18001594,\n",
       "         92.70758442, 110.23662448],\n",
       "       [408.08472407,   0.        , 561.77926458, ..., 887.86080362,\n",
       "        446.07834275, 461.24343952],\n",
       "       [440.16102905, 561.77926458,   0.        , ..., 671.42353823,\n",
       "        532.47390674, 548.46142846],\n",
       "       ...,\n",
       "       [479.18001594, 887.86080362, 671.42353823, ...,   0.        ,\n",
       "        464.47723848, 456.29860839],\n",
       "       [ 92.70758442, 446.07834275, 532.47390674, ..., 464.47723848,\n",
       "          0.        ,  17.82777242],\n",
       "       [110.23662448, 461.24343952, 548.46142846, ..., 456.29860839,\n",
       "         17.82777242,   0.        ]])"
      ]
     },
     "execution_count": 26,
     "metadata": {},
     "output_type": "execute_result"
    }
   ],
   "source": [
    "dij"
   ]
  },
  {
   "cell_type": "markdown",
   "metadata": {},
   "source": [
    "In the end, we got our adjacency matrix!\n",
    "\n",
    "**Mission completed.**"
   ]
  },
  {
   "cell_type": "code",
   "execution_count": 27,
   "metadata": {
    "ExecuteTime": {
     "end_time": "2019-07-08T16:55:46.797144Z",
     "start_time": "2019-07-08T16:55:46.793697Z"
    }
   },
   "outputs": [
    {
     "data": {
      "text/html": [
       "<div>\n",
       "<style scoped>\n",
       "    .dataframe tbody tr th:only-of-type {\n",
       "        vertical-align: middle;\n",
       "    }\n",
       "\n",
       "    .dataframe tbody tr th {\n",
       "        vertical-align: top;\n",
       "    }\n",
       "\n",
       "    .dataframe thead th {\n",
       "        text-align: right;\n",
       "    }\n",
       "</style>\n",
       "<table border=\"1\" class=\"dataframe\">\n",
       "  <thead>\n",
       "    <tr style=\"text-align: right;\">\n",
       "      <th>city</th>\n",
       "      <th>Kyiv</th>\n",
       "      <th>Kharkiv</th>\n",
       "      <th>Odessa</th>\n",
       "      <th>Dnipro</th>\n",
       "      <th>Donetsk</th>\n",
       "      <th>Zaporizhia</th>\n",
       "      <th>Lviv</th>\n",
       "      <th>Kryvyi Rih</th>\n",
       "      <th>Mykolaiv</th>\n",
       "      <th>Mariupol</th>\n",
       "      <th>...</th>\n",
       "      <th>Hlyniany</th>\n",
       "      <th>Pidhaitsi</th>\n",
       "      <th>Baturyn</th>\n",
       "      <th>Belz</th>\n",
       "      <th>Ustyluh</th>\n",
       "      <th>Hertsa</th>\n",
       "      <th>Berestechko</th>\n",
       "      <th>Uhniv</th>\n",
       "      <th>Chernobyl</th>\n",
       "      <th>Prypiat</th>\n",
       "    </tr>\n",
       "    <tr>\n",
       "      <th>city</th>\n",
       "      <th></th>\n",
       "      <th></th>\n",
       "      <th></th>\n",
       "      <th></th>\n",
       "      <th></th>\n",
       "      <th></th>\n",
       "      <th></th>\n",
       "      <th></th>\n",
       "      <th></th>\n",
       "      <th></th>\n",
       "      <th></th>\n",
       "      <th></th>\n",
       "      <th></th>\n",
       "      <th></th>\n",
       "      <th></th>\n",
       "      <th></th>\n",
       "      <th></th>\n",
       "      <th></th>\n",
       "      <th></th>\n",
       "      <th></th>\n",
       "      <th></th>\n",
       "    </tr>\n",
       "  </thead>\n",
       "  <tbody>\n",
       "    <tr>\n",
       "      <th>Kyiv</th>\n",
       "      <td>0.000000</td>\n",
       "      <td>408.084724</td>\n",
       "      <td>440.161029</td>\n",
       "      <td>163.874607</td>\n",
       "      <td>592.319500</td>\n",
       "      <td>440.643460</td>\n",
       "      <td>466.401893</td>\n",
       "      <td>349.941788</td>\n",
       "      <td>401.314189</td>\n",
       "      <td>633.794157</td>\n",
       "      <td>...</td>\n",
       "      <td>432.709372</td>\n",
       "      <td>406.870995</td>\n",
       "      <td>191.637638</td>\n",
       "      <td>353.558793</td>\n",
       "      <td>450.495101</td>\n",
       "      <td>400.213093</td>\n",
       "      <td>381.982537</td>\n",
       "      <td>479.180016</td>\n",
       "      <td>92.707584</td>\n",
       "      <td>110.236624</td>\n",
       "    </tr>\n",
       "    <tr>\n",
       "      <th>Kharkiv</th>\n",
       "      <td>408.084724</td>\n",
       "      <td>0.000000</td>\n",
       "      <td>561.779265</td>\n",
       "      <td>434.075751</td>\n",
       "      <td>246.638023</td>\n",
       "      <td>250.387917</td>\n",
       "      <td>871.614632</td>\n",
       "      <td>309.535481</td>\n",
       "      <td>457.298545</td>\n",
       "      <td>332.309876</td>\n",
       "      <td>...</td>\n",
       "      <td>837.231609</td>\n",
       "      <td>801.334992</td>\n",
       "      <td>277.297722</td>\n",
       "      <td>655.613396</td>\n",
       "      <td>859.221957</td>\n",
       "      <td>753.035718</td>\n",
       "      <td>790.479193</td>\n",
       "      <td>887.860804</td>\n",
       "      <td>446.078343</td>\n",
       "      <td>461.243440</td>\n",
       "    </tr>\n",
       "    <tr>\n",
       "      <th>Odessa</th>\n",
       "      <td>440.161029</td>\n",
       "      <td>561.779265</td>\n",
       "      <td>0.000000</td>\n",
       "      <td>603.430581</td>\n",
       "      <td>558.010222</td>\n",
       "      <td>362.844938</td>\n",
       "      <td>620.792366</td>\n",
       "      <td>254.212395</td>\n",
       "      <td>108.917659</td>\n",
       "      <td>523.976097</td>\n",
       "      <td>...</td>\n",
       "      <td>591.146964</td>\n",
       "      <td>518.999680</td>\n",
       "      <td>559.803357</td>\n",
       "      <td>255.796823</td>\n",
       "      <td>684.946570</td>\n",
       "      <td>384.364458</td>\n",
       "      <td>596.700183</td>\n",
       "      <td>671.423538</td>\n",
       "      <td>532.473907</td>\n",
       "      <td>548.461428</td>\n",
       "    </tr>\n",
       "    <tr>\n",
       "      <th>Dnipro</th>\n",
       "      <td>163.874607</td>\n",
       "      <td>434.075751</td>\n",
       "      <td>603.430581</td>\n",
       "      <td>0.000000</td>\n",
       "      <td>659.915521</td>\n",
       "      <td>545.981965</td>\n",
       "      <td>528.413441</td>\n",
       "      <td>481.252783</td>\n",
       "      <td>556.481443</td>\n",
       "      <td>720.619957</td>\n",
       "      <td>...</td>\n",
       "      <td>499.178430</td>\n",
       "      <td>497.016883</td>\n",
       "      <td>156.219756</td>\n",
       "      <td>506.696318</td>\n",
       "      <td>476.641720</td>\n",
       "      <td>529.959113</td>\n",
       "      <td>433.052603</td>\n",
       "      <td>521.838479</td>\n",
       "      <td>82.528497</td>\n",
       "      <td>76.970215</td>\n",
       "    </tr>\n",
       "    <tr>\n",
       "      <th>Donetsk</th>\n",
       "      <td>592.319500</td>\n",
       "      <td>246.638023</td>\n",
       "      <td>558.010222</td>\n",
       "      <td>659.915521</td>\n",
       "      <td>0.000000</td>\n",
       "      <td>199.718706</td>\n",
       "      <td>1023.673730</td>\n",
       "      <td>327.489609</td>\n",
       "      <td>449.872183</td>\n",
       "      <td>99.058853</td>\n",
       "      <td>...</td>\n",
       "      <td>988.863018</td>\n",
       "      <td>938.767643</td>\n",
       "      <td>509.059105</td>\n",
       "      <td>736.508187</td>\n",
       "      <td>1033.752290</td>\n",
       "      <td>855.772502</td>\n",
       "      <td>955.317562</td>\n",
       "      <td>1051.478762</td>\n",
       "      <td>653.479063</td>\n",
       "      <td>670.891805</td>\n",
       "    </tr>\n",
       "  </tbody>\n",
       "</table>\n",
       "<p>5 rows × 435 columns</p>\n",
       "</div>"
      ],
      "text/plain": [
       "city           Kyiv     Kharkiv      Odessa      Dnipro     Donetsk  \\\n",
       "city                                                                  \n",
       "Kyiv       0.000000  408.084724  440.161029  163.874607  592.319500   \n",
       "Kharkiv  408.084724    0.000000  561.779265  434.075751  246.638023   \n",
       "Odessa   440.161029  561.779265    0.000000  603.430581  558.010222   \n",
       "Dnipro   163.874607  434.075751  603.430581    0.000000  659.915521   \n",
       "Donetsk  592.319500  246.638023  558.010222  659.915521    0.000000   \n",
       "\n",
       "city     Zaporizhia         Lviv  Kryvyi Rih    Mykolaiv    Mariupol  ...  \\\n",
       "city                                                                  ...   \n",
       "Kyiv     440.643460   466.401893  349.941788  401.314189  633.794157  ...   \n",
       "Kharkiv  250.387917   871.614632  309.535481  457.298545  332.309876  ...   \n",
       "Odessa   362.844938   620.792366  254.212395  108.917659  523.976097  ...   \n",
       "Dnipro   545.981965   528.413441  481.252783  556.481443  720.619957  ...   \n",
       "Donetsk  199.718706  1023.673730  327.489609  449.872183   99.058853  ...   \n",
       "\n",
       "city       Hlyniany   Pidhaitsi     Baturyn        Belz      Ustyluh  \\\n",
       "city                                                                   \n",
       "Kyiv     432.709372  406.870995  191.637638  353.558793   450.495101   \n",
       "Kharkiv  837.231609  801.334992  277.297722  655.613396   859.221957   \n",
       "Odessa   591.146964  518.999680  559.803357  255.796823   684.946570   \n",
       "Dnipro   499.178430  497.016883  156.219756  506.696318   476.641720   \n",
       "Donetsk  988.863018  938.767643  509.059105  736.508187  1033.752290   \n",
       "\n",
       "city         Hertsa  Berestechko        Uhniv   Chernobyl     Prypiat  \n",
       "city                                                                   \n",
       "Kyiv     400.213093   381.982537   479.180016   92.707584  110.236624  \n",
       "Kharkiv  753.035718   790.479193   887.860804  446.078343  461.243440  \n",
       "Odessa   384.364458   596.700183   671.423538  532.473907  548.461428  \n",
       "Dnipro   529.959113   433.052603   521.838479   82.528497   76.970215  \n",
       "Donetsk  855.772502   955.317562  1051.478762  653.479063  670.891805  \n",
       "\n",
       "[5 rows x 435 columns]"
      ]
     },
     "execution_count": 27,
     "metadata": {},
     "output_type": "execute_result"
    }
   ],
   "source": [
    "adj_matrix = pd.DataFrame(dij, \n",
    "                          columns=cities_df.index,\n",
    "                          index=cities_df.index)\n",
    "\n",
    "adj_matrix.head()"
   ]
  },
  {
   "cell_type": "code",
   "execution_count": null,
   "metadata": {
    "ExecuteTime": {
     "end_time": "2019-07-08T18:12:18.376323Z",
     "start_time": "2019-07-08T18:12:18.038694Z"
    }
   },
   "outputs": [],
   "source": [
    "# adj_matrix.to_csv('./data/adj_matrix.csv')"
   ]
  },
  {
   "cell_type": "code",
   "execution_count": null,
   "metadata": {
    "ExecuteTime": {
     "end_time": "2019-07-02T13:01:54.221021Z",
     "start_time": "2019-07-02T13:01:54.207277Z"
    }
   },
   "outputs": [],
   "source": []
  }
 ],
 "metadata": {
  "kernelspec": {
   "display_name": "Python 3",
   "language": "python",
   "name": "python3"
  },
  "language_info": {
   "codemirror_mode": {
    "name": "ipython",
    "version": 3
   },
   "file_extension": ".py",
   "mimetype": "text/x-python",
   "name": "python",
   "nbconvert_exporter": "python",
   "pygments_lexer": "ipython3",
   "version": "3.7.3"
  },
  "toc": {
   "nav_menu": {},
   "number_sections": true,
   "sideBar": true,
   "skip_h1_title": false,
   "toc_cell": false,
   "toc_position": {},
   "toc_section_display": "block",
   "toc_window_display": false
  },
  "varInspector": {
   "cols": {
    "lenName": 16,
    "lenType": 16,
    "lenVar": 40
   },
   "kernels_config": {
    "python": {
     "delete_cmd_postfix": "",
     "delete_cmd_prefix": "del ",
     "library": "var_list.py",
     "varRefreshCmd": "print(var_dic_list())"
    },
    "r": {
     "delete_cmd_postfix": ") ",
     "delete_cmd_prefix": "rm(",
     "library": "var_list.r",
     "varRefreshCmd": "cat(var_dic_list()) "
    }
   },
   "types_to_exclude": [
    "module",
    "function",
    "builtin_function_or_method",
    "instance",
    "_Feature"
   ],
   "window_display": false
  }
 },
 "nbformat": 4,
 "nbformat_minor": 2
}
